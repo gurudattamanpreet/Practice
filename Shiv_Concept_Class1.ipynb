{
  "cells": [
    {
      "cell_type": "markdown",
      "metadata": {
        "id": "view-in-github",
        "colab_type": "text"
      },
      "source": [
        "<a href=\"https://colab.research.google.com/github/gurudattamanpreet/Practice/blob/main/Shiv_Concept_Class1.ipynb\" target=\"_parent\"><img src=\"https://colab.research.google.com/assets/colab-badge.svg\" alt=\"Open In Colab\"/></a>"
      ]
    },
    {
      "cell_type": "code",
      "execution_count": null,
      "id": "2e26c2a4-0a45-48b0-8b9c-1bf455da2f34",
      "metadata": {
        "id": "2e26c2a4-0a45-48b0-8b9c-1bf455da2f34"
      },
      "outputs": [],
      "source": [
        "import pandas as pd"
      ]
    },
    {
      "cell_type": "code",
      "execution_count": null,
      "id": "692859f0-28c9-4734-b4f1-34a05c85e2a0",
      "metadata": {
        "id": "692859f0-28c9-4734-b4f1-34a05c85e2a0"
      },
      "outputs": [],
      "source": [
        "df=[10,20,30,40]"
      ]
    },
    {
      "cell_type": "code",
      "execution_count": null,
      "id": "5b9411b9-38bf-49fd-8c0f-b50bc0f75222",
      "metadata": {
        "id": "5b9411b9-38bf-49fd-8c0f-b50bc0f75222"
      },
      "outputs": [],
      "source": [
        "s=pd.Series(df)"
      ]
    },
    {
      "cell_type": "code",
      "execution_count": null,
      "id": "1c8e0ac8-87ac-42fa-b706-c4652645acda",
      "metadata": {
        "id": "1c8e0ac8-87ac-42fa-b706-c4652645acda",
        "outputId": "78db4cdb-d767-4682-fc1d-f877bcda770f"
      },
      "outputs": [
        {
          "data": {
            "text/plain": [
              "0    10\n",
              "1    20\n",
              "2    30\n",
              "3    40\n",
              "dtype: int64"
            ]
          },
          "execution_count": 9,
          "metadata": {},
          "output_type": "execute_result"
        }
      ],
      "source": [
        "s"
      ]
    },
    {
      "cell_type": "code",
      "execution_count": null,
      "id": "43a2c7da-eef1-47a6-aeda-c4547840bef4",
      "metadata": {
        "id": "43a2c7da-eef1-47a6-aeda-c4547840bef4"
      },
      "outputs": [],
      "source": [
        "s=pd.Series([100,200,300],index=['a','b','c'])"
      ]
    },
    {
      "cell_type": "code",
      "execution_count": null,
      "id": "dd0c4df1-5e8a-46dd-ae55-768d84de92ec",
      "metadata": {
        "id": "dd0c4df1-5e8a-46dd-ae55-768d84de92ec",
        "outputId": "c22e695b-2426-43b7-ce18-b83c3218ee0c"
      },
      "outputs": [
        {
          "data": {
            "text/plain": [
              "a    100\n",
              "b    200\n",
              "c    300\n",
              "dtype: int64"
            ]
          },
          "execution_count": 11,
          "metadata": {},
          "output_type": "execute_result"
        }
      ],
      "source": [
        "s"
      ]
    },
    {
      "cell_type": "code",
      "execution_count": null,
      "id": "1b11dc2e-cfef-482f-b081-de63b5f14d7a",
      "metadata": {
        "id": "1b11dc2e-cfef-482f-b081-de63b5f14d7a"
      },
      "outputs": [],
      "source": [
        "c=pd.Series([30,32,35],index=['hello','friend','dear'],dtype='float64')"
      ]
    },
    {
      "cell_type": "code",
      "execution_count": null,
      "id": "10c7b0ef-1fef-40df-8eb9-f06a7908293b",
      "metadata": {
        "id": "10c7b0ef-1fef-40df-8eb9-f06a7908293b",
        "outputId": "d3fed472-f557-439b-cb79-3088b4d517b8"
      },
      "outputs": [
        {
          "data": {
            "text/plain": [
              "hello     30.0\n",
              "friend    32.0\n",
              "dear      35.0\n",
              "dtype: float64"
            ]
          },
          "execution_count": 28,
          "metadata": {},
          "output_type": "execute_result"
        }
      ],
      "source": [
        "c"
      ]
    },
    {
      "cell_type": "code",
      "execution_count": null,
      "id": "56f650a3-7d1c-4204-8e15-8f9777aaf2a2",
      "metadata": {
        "id": "56f650a3-7d1c-4204-8e15-8f9777aaf2a2",
        "outputId": "b3af3adf-6b08-42f3-aabe-5a8b98b50703"
      },
      "outputs": [
        {
          "name": "stdout",
          "output_type": "stream",
          "text": [
            "how many places have you visited\n",
            "34         GOA\n",
            "45    JALANDAR\n",
            "36     GUHAWTI\n",
            "dtype: object \n",
            "\n",
            "34    3\n",
            "45    8\n",
            "36    7\n",
            "dtype: int64\n",
            "34     True\n",
            "45    False\n",
            "36     True\n",
            "dtype: bool\n"
          ]
        }
      ],
      "source": [
        "print('how many places have you visited')\n",
        "e=pd.Series(['Goa','Jalandar','Guhawti'],index=[34,45,36])\n",
        "print(e.str.upper(),'\\n')\n",
        "print(e.str.len())\n",
        "print(e.str.contains('G'))"
      ]
    },
    {
      "cell_type": "code",
      "execution_count": null,
      "id": "557d5a97-be67-4beb-b1dc-a3960a8b5a4b",
      "metadata": {
        "id": "557d5a97-be67-4beb-b1dc-a3960a8b5a4b",
        "outputId": "3b501541-e0de-4f21-d99c-cf6184c9c42a"
      },
      "outputs": [
        {
          "data": {
            "text/plain": [
              "31.666666666666668"
            ]
          },
          "execution_count": 96,
          "metadata": {},
          "output_type": "execute_result"
        }
      ],
      "source": [
        "q=pd.Series([10,55,30], index=['price1','price2','price3'])\n",
        "f=q.mean()\n",
        "f"
      ]
    },
    {
      "cell_type": "code",
      "execution_count": null,
      "id": "21fa0104-ef5e-4387-80cc-3e967f076ae8",
      "metadata": {
        "id": "21fa0104-ef5e-4387-80cc-3e967f076ae8",
        "outputId": "c99b3d38-7c97-49f9-9de1-3752e554b5c9"
      },
      "outputs": [
        {
          "data": {
            "text/plain": [
              "34         Goa\n",
              "45    Jalandar\n",
              "36     Guhawti\n",
              "dtype: object"
            ]
          },
          "execution_count": 97,
          "metadata": {},
          "output_type": "execute_result"
        }
      ],
      "source": [
        "e.tolist()\n",
        "e"
      ]
    },
    {
      "cell_type": "code",
      "execution_count": null,
      "id": "d091a5e5-9183-4e83-9903-09a53d7fc23a",
      "metadata": {
        "id": "d091a5e5-9183-4e83-9903-09a53d7fc23a"
      },
      "outputs": [],
      "source": [
        "s = pd.Series([10, 20, 30, 40])"
      ]
    },
    {
      "cell_type": "code",
      "execution_count": null,
      "id": "9e7844b7-b86a-450c-b94d-9666edb998ae",
      "metadata": {
        "id": "9e7844b7-b86a-450c-b94d-9666edb998ae",
        "outputId": "5d167af0-272c-452c-bb8b-294c20b129bc"
      },
      "outputs": [
        {
          "name": "stdout",
          "output_type": "stream",
          "text": [
            "0    10\n",
            "1    20\n",
            "2    30\n",
            "3    40\n",
            "dtype: int64\n"
          ]
        }
      ],
      "source": [
        "s.tolist()\n",
        "print(s)"
      ]
    },
    {
      "cell_type": "code",
      "execution_count": null,
      "id": "c2e5f039-3e6f-4356-99e6-c70f7807df37",
      "metadata": {
        "id": "c2e5f039-3e6f-4356-99e6-c70f7807df37",
        "outputId": "74dd5d6e-eb39-4cd3-e108-82ab730829a1"
      },
      "outputs": [
        {
          "name": "stdout",
          "output_type": "stream",
          "text": [
            "0    10\n",
            "1    20\n",
            "2    30\n",
            "3    40\n",
            "dtype: int64\n"
          ]
        }
      ],
      "source": [
        "s.to_dict()\n",
        "print(s)"
      ]
    },
    {
      "cell_type": "code",
      "execution_count": null,
      "id": "7bc402a1-b7f1-4152-854c-403391bf1126",
      "metadata": {
        "id": "7bc402a1-b7f1-4152-854c-403391bf1126",
        "outputId": "bba8bb1d-7f73-4e6d-cdae-d23def39b6c7"
      },
      "outputs": [
        {
          "name": "stdout",
          "output_type": "stream",
          "text": [
            "0    10\n",
            "1    20\n",
            "2    30\n",
            "3    40\n",
            "dtype: int64\n"
          ]
        }
      ],
      "source": [
        "s.to_numpy()\n",
        "print(s)"
      ]
    },
    {
      "cell_type": "code",
      "execution_count": null,
      "id": "4085dc9d-30fb-4df4-b287-c387b182b6d4",
      "metadata": {
        "id": "4085dc9d-30fb-4df4-b287-c387b182b6d4",
        "outputId": "e488d7d6-c2f3-475f-a96b-e7624940793c"
      },
      "outputs": [
        {
          "data": {
            "text/plain": [
              "0    10\n",
              "1    20\n",
              "2    30\n",
              "3    40\n",
              "dtype: int64"
            ]
          },
          "execution_count": 110,
          "metadata": {},
          "output_type": "execute_result"
        }
      ],
      "source": [
        "s = pd.Series([10, 20, 30, 40])\n",
        "s"
      ]
    },
    {
      "cell_type": "code",
      "execution_count": null,
      "id": "4ae86a6e-51af-4e48-bdd6-0469719cf859",
      "metadata": {
        "id": "4ae86a6e-51af-4e48-bdd6-0469719cf859",
        "outputId": "a6f33272-d409-46a6-b88b-18f2c6c3f91b"
      },
      "outputs": [
        {
          "data": {
            "text/plain": [
              "[10, 20, 30, 40]"
            ]
          },
          "execution_count": 109,
          "metadata": {},
          "output_type": "execute_result"
        }
      ],
      "source": [
        "s.tolist()"
      ]
    },
    {
      "cell_type": "code",
      "execution_count": null,
      "id": "e9b05cd9-7b75-4f4a-9171-f87e355eb673",
      "metadata": {
        "id": "e9b05cd9-7b75-4f4a-9171-f87e355eb673",
        "outputId": "476ef51d-603f-4b73-eccf-f0c32245ffd4"
      },
      "outputs": [
        {
          "data": {
            "text/plain": [
              "array([10, 20, 30, 40])"
            ]
          },
          "execution_count": 111,
          "metadata": {},
          "output_type": "execute_result"
        }
      ],
      "source": [
        "s.to_numpy()"
      ]
    },
    {
      "cell_type": "code",
      "execution_count": null,
      "id": "f7b15a68-56a5-46c9-9336-d14044b16ef1",
      "metadata": {
        "id": "f7b15a68-56a5-46c9-9336-d14044b16ef1",
        "outputId": "d16f180c-6f7a-44f0-b330-fc77fff01eba"
      },
      "outputs": [
        {
          "data": {
            "text/plain": [
              "{0: 10, 1: 20, 2: 30, 3: 40}"
            ]
          },
          "execution_count": 112,
          "metadata": {},
          "output_type": "execute_result"
        }
      ],
      "source": [
        "s.to_dict()"
      ]
    },
    {
      "cell_type": "code",
      "execution_count": null,
      "id": "b4693c32-d604-457a-96f2-b96bcb56f98f",
      "metadata": {
        "id": "b4693c32-d604-457a-96f2-b96bcb56f98f",
        "outputId": "9859a45d-98f9-438b-e02b-78de0cefe861"
      },
      "outputs": [
        {
          "data": {
            "text/plain": [
              "[10, 20, 30, 40]"
            ]
          },
          "execution_count": 117,
          "metadata": {},
          "output_type": "execute_result"
        }
      ],
      "source": [
        "s.tolist()"
      ]
    },
    {
      "cell_type": "code",
      "execution_count": null,
      "id": "63d92dfa-6dcf-4fa1-8404-2a3342f149b7",
      "metadata": {
        "id": "63d92dfa-6dcf-4fa1-8404-2a3342f149b7",
        "outputId": "bf58e123-bccf-47da-83e8-cd27fb62b923"
      },
      "outputs": [
        {
          "data": {
            "text/plain": [
              "40"
            ]
          },
          "execution_count": 120,
          "metadata": {},
          "output_type": "execute_result"
        }
      ],
      "source": [
        "s[3]"
      ]
    },
    {
      "cell_type": "code",
      "execution_count": null,
      "id": "23b5b629-8d7a-4592-9fff-de181e97da9f",
      "metadata": {
        "id": "23b5b629-8d7a-4592-9fff-de181e97da9f",
        "outputId": "6319aa4c-6747-43e1-8b30-d9bb8c517ab7"
      },
      "outputs": [
        {
          "data": {
            "text/plain": [
              "hello     30.0\n",
              "friend    32.0\n",
              "dear      35.0\n",
              "dtype: float64"
            ]
          },
          "execution_count": 124,
          "metadata": {},
          "output_type": "execute_result"
        }
      ],
      "source": [
        "c"
      ]
    },
    {
      "cell_type": "code",
      "execution_count": null,
      "id": "d25dd801-541e-48e8-b2f9-635ca04d18e2",
      "metadata": {
        "id": "d25dd801-541e-48e8-b2f9-635ca04d18e2",
        "outputId": "7c917d07-b2ea-41b5-dadf-c8cd386df114"
      },
      "outputs": [
        {
          "data": {
            "text/plain": [
              "0     34\n",
              "1     45\n",
              "2     32\n",
              "3     56\n",
              "4     98\n",
              "5     21\n",
              "6     56\n",
              "7     36\n",
              "8      2\n",
              "9     12\n",
              "10    90\n",
              "dtype: int64"
            ]
          },
          "execution_count": 152,
          "metadata": {},
          "output_type": "execute_result"
        }
      ],
      "source": [
        "r=pd.Series([34,45,32,56,98,21,56,36,2,12,90])\n",
        "r"
      ]
    },
    {
      "cell_type": "code",
      "execution_count": null,
      "id": "106b28a5-9702-41d2-a656-a34038790ffc",
      "metadata": {
        "id": "106b28a5-9702-41d2-a656-a34038790ffc",
        "outputId": "b32d4815-7ca7-464c-a50b-916400e87a58"
      },
      "outputs": [
        {
          "data": {
            "text/plain": [
              "32"
            ]
          },
          "execution_count": 126,
          "metadata": {},
          "output_type": "execute_result"
        }
      ],
      "source": [
        "r[2]"
      ]
    },
    {
      "cell_type": "code",
      "execution_count": null,
      "id": "1d670187-6952-4628-b60b-32e3b2363609",
      "metadata": {
        "id": "1d670187-6952-4628-b60b-32e3b2363609"
      },
      "outputs": [],
      "source": [
        "d=pd.Series([23,35,46])\n",
        "w=pd.Series([32,76,96])"
      ]
    },
    {
      "cell_type": "code",
      "execution_count": null,
      "id": "7e0da8e4-a108-4fff-8ce2-adde2df6f1f1",
      "metadata": {
        "id": "7e0da8e4-a108-4fff-8ce2-adde2df6f1f1",
        "outputId": "f36f3024-4f39-4050-9564-918f28fd54e9"
      },
      "outputs": [
        {
          "data": {
            "text/plain": [
              "0    23\n",
              "1    35\n",
              "2    46\n",
              "0    32\n",
              "1    76\n",
              "2    96\n",
              "dtype: int64"
            ]
          },
          "execution_count": 136,
          "metadata": {},
          "output_type": "execute_result"
        }
      ],
      "source": [
        "v=pd.concat([d,w])\n",
        "v"
      ]
    },
    {
      "cell_type": "code",
      "execution_count": null,
      "id": "4abfc348-8559-43f6-a1ea-f37c58f979f6",
      "metadata": {
        "id": "4abfc348-8559-43f6-a1ea-f37c58f979f6",
        "outputId": "b764eab6-9e07-421b-bd4a-feee9c5053b0"
      },
      "outputs": [
        {
          "data": {
            "text/plain": [
              "34         Goa\n",
              "45    Jalandar\n",
              "36     Guhawti\n",
              "0           23\n",
              "1           35\n",
              "2           46\n",
              "0           32\n",
              "1           76\n",
              "2           96\n",
              "0           34\n",
              "1           45\n",
              "2           32\n",
              "dtype: object"
            ]
          },
          "execution_count": 141,
          "metadata": {},
          "output_type": "execute_result"
        }
      ],
      "source": [
        "pd.concat([e,d,w,r])"
      ]
    },
    {
      "cell_type": "code",
      "execution_count": null,
      "id": "60475031-bddf-46e0-8228-be2800ab5812",
      "metadata": {
        "id": "60475031-bddf-46e0-8228-be2800ab5812",
        "outputId": "97c6d40e-1066-4a99-e043-abdb94b6839a"
      },
      "outputs": [
        {
          "data": {
            "text/plain": [
              "0    34\n",
              "2    32\n",
              "dtype: int64"
            ]
          },
          "execution_count": 142,
          "metadata": {},
          "output_type": "execute_result"
        }
      ],
      "source": [
        "r.drop(1)"
      ]
    },
    {
      "cell_type": "code",
      "execution_count": null,
      "id": "0d8a41d4-32a9-4139-be40-941b70eede56",
      "metadata": {
        "id": "0d8a41d4-32a9-4139-be40-941b70eede56",
        "outputId": "9eddcb55-09f7-472a-d868-813f33b60b4f"
      },
      "outputs": [
        {
          "data": {
            "text/plain": [
              "1    45\n",
              "0    34\n",
              "2    32\n",
              "dtype: int64"
            ]
          },
          "execution_count": 148,
          "metadata": {},
          "output_type": "execute_result"
        }
      ],
      "source": [
        "r.sort_values(ascending=False)"
      ]
    },
    {
      "cell_type": "code",
      "execution_count": null,
      "id": "020575b0-7d6e-4564-8032-77c4e3056888",
      "metadata": {
        "id": "020575b0-7d6e-4564-8032-77c4e3056888",
        "outputId": "e45d9a02-8eb0-4b36-cdd7-72603b3acc2d"
      },
      "outputs": [
        {
          "name": "stdout",
          "output_type": "stream",
          "text": [
            "0     1\n",
            "1     4\n",
            "2     9\n",
            "3    16\n",
            "dtype: int64\n"
          ]
        }
      ],
      "source": [
        "#doubt\n",
        "s = pd.Series([1, 2, 3, 4])\n",
        "\n",
        "print(s.apply(lambda x: x**2))"
      ]
    },
    {
      "cell_type": "code",
      "execution_count": null,
      "id": "ca637d01-82b3-41ad-b5a1-ea16aa34a2c9",
      "metadata": {
        "id": "ca637d01-82b3-41ad-b5a1-ea16aa34a2c9",
        "outputId": "34eb99d0-af90-4690-eda0-6e47e5d39598"
      },
      "outputs": [
        {
          "data": {
            "text/plain": [
              "0     34\n",
              "1     45\n",
              "2     32\n",
              "3     56\n",
              "4     98\n",
              "5     21\n",
              "6     56\n",
              "7     36\n",
              "8      2\n",
              "9     12\n",
              "10    90\n",
              "dtype: int64"
            ]
          },
          "execution_count": 167,
          "metadata": {},
          "output_type": "execute_result"
        }
      ],
      "source": [
        "r=pd.Series([34,45,32,56,98,21,56,36,2,12,90])\n",
        "r"
      ]
    },
    {
      "cell_type": "code",
      "execution_count": null,
      "id": "f3000bfd-bbe9-4be3-b880-4ccf87c2724f",
      "metadata": {
        "id": "f3000bfd-bbe9-4be3-b880-4ccf87c2724f"
      },
      "outputs": [],
      "source": []
    },
    {
      "cell_type": "code",
      "execution_count": null,
      "id": "171578be-a0c8-4a26-a45e-8099d2883b32",
      "metadata": {
        "id": "171578be-a0c8-4a26-a45e-8099d2883b32",
        "outputId": "1958d693-4c03-4e9b-e644-a809df1c546e"
      },
      "outputs": [
        {
          "data": {
            "text/plain": [
              "32"
            ]
          },
          "execution_count": 175,
          "metadata": {},
          "output_type": "execute_result"
        }
      ],
      "source": [
        "r.iloc[-9]"
      ]
    },
    {
      "cell_type": "code",
      "execution_count": null,
      "id": "56b349d2-6034-4d40-a4d4-7e677cfba054",
      "metadata": {
        "id": "56b349d2-6034-4d40-a4d4-7e677cfba054",
        "outputId": "96120a0e-ec2b-4610-cb09-d194a56d7c9a"
      },
      "outputs": [
        {
          "name": "stdout",
          "output_type": "stream",
          "text": [
            "nan\n",
            "<class 'float'>\n"
          ]
        }
      ],
      "source": [
        "import numpy as np\n",
        "\n",
        "x = np.nan\n",
        "print(x)\n",
        "print(type(x))"
      ]
    },
    {
      "cell_type": "code",
      "execution_count": null,
      "id": "623a2eaf-7dcd-4ca8-b0eb-868e17d16a65",
      "metadata": {
        "id": "623a2eaf-7dcd-4ca8-b0eb-868e17d16a65"
      },
      "outputs": [],
      "source": [
        "r=r.astype(float)"
      ]
    },
    {
      "cell_type": "code",
      "execution_count": null,
      "id": "13d21a03-caaf-4317-81ee-57db0422f636",
      "metadata": {
        "id": "13d21a03-caaf-4317-81ee-57db0422f636",
        "outputId": "da532b62-0c1b-4c1e-9284-b196b0d41ee3"
      },
      "outputs": [
        {
          "data": {
            "text/plain": [
              "0     34.0\n",
              "1     45.0\n",
              "2     32.0\n",
              "3     56.0\n",
              "4     98.0\n",
              "5     21.0\n",
              "6     56.0\n",
              "7     36.0\n",
              "8      2.0\n",
              "9     12.0\n",
              "10    90.0\n",
              "dtype: float64"
            ]
          },
          "execution_count": 181,
          "metadata": {},
          "output_type": "execute_result"
        }
      ],
      "source": [
        "r"
      ]
    },
    {
      "cell_type": "code",
      "execution_count": null,
      "id": "c2bb361c-f542-412e-9f68-cbc3c9162a5a",
      "metadata": {
        "id": "c2bb361c-f542-412e-9f68-cbc3c9162a5a",
        "outputId": "267adbe6-3ba2-4545-db52-9db8e5ffb6dc"
      },
      "outputs": [
        {
          "data": {
            "text/plain": [
              "0     34.0\n",
              "1     45.0\n",
              "2     32.0\n",
              "3     56.0\n",
              "4     98.0\n",
              "5     21.0\n",
              "6     56.0\n",
              "7     36.0\n",
              "8      2.0\n",
              "9     12.0\n",
              "10    90.0\n",
              "dtype: float64"
            ]
          },
          "execution_count": 182,
          "metadata": {},
          "output_type": "execute_result"
        }
      ],
      "source": [
        "r"
      ]
    },
    {
      "cell_type": "code",
      "execution_count": null,
      "id": "7968df7d-3293-45a9-88af-38614fcfb427",
      "metadata": {
        "id": "7968df7d-3293-45a9-88af-38614fcfb427",
        "outputId": "1f132887-2e06-4f38-e8d9-e1a8136fc828"
      },
      "outputs": [
        {
          "data": {
            "text/plain": [
              "array([5, 3, 5, 2, 3, 4, 5, 2, 1, 1])"
            ]
          },
          "execution_count": 185,
          "metadata": {},
          "output_type": "execute_result"
        }
      ],
      "source": [
        "np.random.randint(1,6,10)"
      ]
    },
    {
      "cell_type": "code",
      "execution_count": null,
      "id": "0bb0e504-99b4-47cf-816d-49b4824a0096",
      "metadata": {
        "id": "0bb0e504-99b4-47cf-816d-49b4824a0096",
        "outputId": "13b0620c-3e6d-4772-fc66-182b2a0f2a82"
      },
      "outputs": [
        {
          "name": "stdout",
          "output_type": "stream",
          "text": [
            "['Amit', 'Neha', 'Rahul']\n",
            "[101, 102, 103]\n",
            "[25, 30, 28]\n"
          ]
        }
      ],
      "source": [
        "name = [\"Amit\", \"Neha\", \"Rahul\"]\n",
        "code = [101, 102, 103]\n",
        "age = [25, 30, 28]\n",
        "\n",
        "print(name)\n",
        "print(code)\n",
        "print(age)"
      ]
    },
    {
      "cell_type": "code",
      "execution_count": null,
      "id": "f88d6c2e-fa92-497f-b4b3-6051a714a38c",
      "metadata": {
        "id": "f88d6c2e-fa92-497f-b4b3-6051a714a38c",
        "outputId": "7d452fb6-d0cd-45db-f46a-5d2dce6ef5dc"
      },
      "outputs": [
        {
          "data": {
            "text/html": [
              "<div>\n",
              "<style scoped>\n",
              "    .dataframe tbody tr th:only-of-type {\n",
              "        vertical-align: middle;\n",
              "    }\n",
              "\n",
              "    .dataframe tbody tr th {\n",
              "        vertical-align: top;\n",
              "    }\n",
              "\n",
              "    .dataframe thead th {\n",
              "        text-align: right;\n",
              "    }\n",
              "</style>\n",
              "<table border=\"1\" class=\"dataframe\">\n",
              "  <thead>\n",
              "    <tr style=\"text-align: right;\">\n",
              "      <th></th>\n",
              "      <th>name</th>\n",
              "      <th>code</th>\n",
              "      <th>age</th>\n",
              "    </tr>\n",
              "  </thead>\n",
              "  <tbody>\n",
              "    <tr>\n",
              "      <th>student1</th>\n",
              "      <td>Amit</td>\n",
              "      <td>101</td>\n",
              "      <td>25</td>\n",
              "    </tr>\n",
              "    <tr>\n",
              "      <th>student2</th>\n",
              "      <td>Neha</td>\n",
              "      <td>102</td>\n",
              "      <td>30</td>\n",
              "    </tr>\n",
              "    <tr>\n",
              "      <th>student3</th>\n",
              "      <td>Rahul</td>\n",
              "      <td>103</td>\n",
              "      <td>28</td>\n",
              "    </tr>\n",
              "  </tbody>\n",
              "</table>\n",
              "</div>"
            ],
            "text/plain": [
              "           name  code  age\n",
              "student1   Amit   101   25\n",
              "student2   Neha   102   30\n",
              "student3  Rahul   103   28"
            ]
          },
          "execution_count": 196,
          "metadata": {},
          "output_type": "execute_result"
        }
      ],
      "source": [
        "data=list(zip(name,code,age))\n",
        "df2=pd.DataFrame(data,columns=['name','code','age'],index=['student1','student2','student3'])\n",
        "df2"
      ]
    },
    {
      "cell_type": "code",
      "execution_count": null,
      "id": "c92e8747-91e2-46bc-9fd1-1a6947ab4cab",
      "metadata": {
        "id": "c92e8747-91e2-46bc-9fd1-1a6947ab4cab"
      },
      "outputs": [],
      "source": [
        "city=['ajmer','udaipur','jaipur']\n",
        "population=[20,50,60]\n",
        "vehicle=['2-wheeler','4-wheeler','2-wheeler']"
      ]
    },
    {
      "cell_type": "code",
      "execution_count": null,
      "id": "c874cddf-ab81-40e7-a66b-0e5d5dd8343e",
      "metadata": {
        "id": "c874cddf-ab81-40e7-a66b-0e5d5dd8343e"
      },
      "outputs": [],
      "source": [
        "df1=zip(city,population,vehicle)"
      ]
    },
    {
      "cell_type": "code",
      "execution_count": null,
      "id": "63cebd25-b74f-4179-9e78-d25009957ffe",
      "metadata": {
        "id": "63cebd25-b74f-4179-9e78-d25009957ffe",
        "outputId": "88f8784c-5a6a-44e8-c607-d0eb13b277b2"
      },
      "outputs": [
        {
          "data": {
            "text/html": [
              "<div>\n",
              "<style scoped>\n",
              "    .dataframe tbody tr th:only-of-type {\n",
              "        vertical-align: middle;\n",
              "    }\n",
              "\n",
              "    .dataframe tbody tr th {\n",
              "        vertical-align: top;\n",
              "    }\n",
              "\n",
              "    .dataframe thead th {\n",
              "        text-align: right;\n",
              "    }\n",
              "</style>\n",
              "<table border=\"1\" class=\"dataframe\">\n",
              "  <thead>\n",
              "    <tr style=\"text-align: right;\">\n",
              "      <th></th>\n",
              "      <th>city</th>\n",
              "      <th>population</th>\n",
              "      <th>vehicle</th>\n",
              "    </tr>\n",
              "  </thead>\n",
              "  <tbody>\n",
              "    <tr>\n",
              "      <th>0</th>\n",
              "      <td>ajmer</td>\n",
              "      <td>20</td>\n",
              "      <td>2-wheeler</td>\n",
              "    </tr>\n",
              "    <tr>\n",
              "      <th>1</th>\n",
              "      <td>udaipur</td>\n",
              "      <td>50</td>\n",
              "      <td>4-wheeler</td>\n",
              "    </tr>\n",
              "    <tr>\n",
              "      <th>2</th>\n",
              "      <td>jaipur</td>\n",
              "      <td>60</td>\n",
              "      <td>2-wheeler</td>\n",
              "    </tr>\n",
              "  </tbody>\n",
              "</table>\n",
              "</div>"
            ],
            "text/plain": [
              "      city  population    vehicle\n",
              "0    ajmer          20  2-wheeler\n",
              "1  udaipur          50  4-wheeler\n",
              "2   jaipur          60  2-wheeler"
            ]
          },
          "execution_count": 213,
          "metadata": {},
          "output_type": "execute_result"
        }
      ],
      "source": [
        "df3=pd.DataFrame(df1,columns=['city','population','vehicle'])\n",
        "df3"
      ]
    },
    {
      "cell_type": "code",
      "execution_count": null,
      "id": "fb2444c3-7c66-43c4-84e9-6208bf0ae49c",
      "metadata": {
        "id": "fb2444c3-7c66-43c4-84e9-6208bf0ae49c",
        "outputId": "923f87e7-86ee-4157-df24-4f0d5b55a5b9"
      },
      "outputs": [
        {
          "data": {
            "text/html": [
              "<div>\n",
              "<style scoped>\n",
              "    .dataframe tbody tr th:only-of-type {\n",
              "        vertical-align: middle;\n",
              "    }\n",
              "\n",
              "    .dataframe tbody tr th {\n",
              "        vertical-align: top;\n",
              "    }\n",
              "\n",
              "    .dataframe thead th {\n",
              "        text-align: right;\n",
              "    }\n",
              "</style>\n",
              "<table border=\"1\" class=\"dataframe\">\n",
              "  <thead>\n",
              "    <tr style=\"text-align: right;\">\n",
              "      <th></th>\n",
              "      <th>0</th>\n",
              "      <th>1</th>\n",
              "      <th>2</th>\n",
              "    </tr>\n",
              "  </thead>\n",
              "  <tbody>\n",
              "    <tr>\n",
              "      <th>0</th>\n",
              "      <td>ajmer</td>\n",
              "      <td>20</td>\n",
              "      <td>2-wheeler</td>\n",
              "    </tr>\n",
              "    <tr>\n",
              "      <th>1</th>\n",
              "      <td>udaipur</td>\n",
              "      <td>50</td>\n",
              "      <td>4-wheeler</td>\n",
              "    </tr>\n",
              "    <tr>\n",
              "      <th>2</th>\n",
              "      <td>jaipur</td>\n",
              "      <td>60</td>\n",
              "      <td>2-wheeler</td>\n",
              "    </tr>\n",
              "  </tbody>\n",
              "</table>\n",
              "</div>"
            ],
            "text/plain": [
              "         0   1          2\n",
              "0    ajmer  20  2-wheeler\n",
              "1  udaipur  50  4-wheeler\n",
              "2   jaipur  60  2-wheeler"
            ]
          },
          "execution_count": 217,
          "metadata": {},
          "output_type": "execute_result"
        }
      ],
      "source": [
        "pd.DataFrame(df1)"
      ]
    },
    {
      "cell_type": "code",
      "execution_count": null,
      "id": "786d7a8b-6f95-4be0-b4ea-0413b76fbbf2",
      "metadata": {
        "id": "786d7a8b-6f95-4be0-b4ea-0413b76fbbf2"
      },
      "outputs": [],
      "source": [
        "city=['ajmer','udaipur','jaipur']"
      ]
    },
    {
      "cell_type": "code",
      "execution_count": null,
      "id": "475e1b6d-e68a-4d3f-86a9-2fe4bfc7d273",
      "metadata": {
        "id": "475e1b6d-e68a-4d3f-86a9-2fe4bfc7d273",
        "outputId": "a25df221-13e7-41ee-e7a9-ca1ef48fddec"
      },
      "outputs": [
        {
          "data": {
            "text/plain": [
              "['ajmer', 'jaipur', 'udaipur']"
            ]
          },
          "execution_count": 221,
          "metadata": {},
          "output_type": "execute_result"
        }
      ],
      "source": [
        "city.sort()\n",
        "city"
      ]
    },
    {
      "cell_type": "code",
      "execution_count": null,
      "id": "be7e970f-a831-4ec0-9742-d4dc253727b5",
      "metadata": {
        "id": "be7e970f-a831-4ec0-9742-d4dc253727b5"
      },
      "outputs": [],
      "source": [
        "city=['ajmer','udaipur','jaipur']\n",
        "population=[20,50,60]\n",
        "vehicle=['2-wheeler','4-wheeler','2-wheeler']"
      ]
    },
    {
      "cell_type": "code",
      "execution_count": null,
      "id": "d42616d0-7255-4f0d-b119-a4cf37f91841",
      "metadata": {
        "id": "d42616d0-7255-4f0d-b119-a4cf37f91841"
      },
      "outputs": [],
      "source": [
        "names = pd.Series([\"Amit\", \"Neha\", \"Rahul\"])\n",
        "codes = pd.Series([101, 102, 103])\n",
        "ages = pd.Series([25, 30, 28])"
      ]
    },
    {
      "cell_type": "code",
      "execution_count": null,
      "id": "f631664a-c38e-4825-91ec-5e1661005264",
      "metadata": {
        "id": "f631664a-c38e-4825-91ec-5e1661005264",
        "outputId": "ad8038c0-d5e1-4d73-8a67-cdbb6f5b0fd9"
      },
      "outputs": [
        {
          "data": {
            "text/html": [
              "<div>\n",
              "<style scoped>\n",
              "    .dataframe tbody tr th:only-of-type {\n",
              "        vertical-align: middle;\n",
              "    }\n",
              "\n",
              "    .dataframe tbody tr th {\n",
              "        vertical-align: top;\n",
              "    }\n",
              "\n",
              "    .dataframe thead th {\n",
              "        text-align: right;\n",
              "    }\n",
              "</style>\n",
              "<table border=\"1\" class=\"dataframe\">\n",
              "  <thead>\n",
              "    <tr style=\"text-align: right;\">\n",
              "      <th></th>\n",
              "      <th>name</th>\n",
              "      <th>code</th>\n",
              "      <th>age</th>\n",
              "    </tr>\n",
              "  </thead>\n",
              "  <tbody>\n",
              "    <tr>\n",
              "      <th>student1</th>\n",
              "      <td>Amit</td>\n",
              "      <td>101</td>\n",
              "      <td>25</td>\n",
              "    </tr>\n",
              "    <tr>\n",
              "      <th>student2</th>\n",
              "      <td>Neha</td>\n",
              "      <td>102</td>\n",
              "      <td>30</td>\n",
              "    </tr>\n",
              "    <tr>\n",
              "      <th>student3</th>\n",
              "      <td>Rahul</td>\n",
              "      <td>103</td>\n",
              "      <td>28</td>\n",
              "    </tr>\n",
              "  </tbody>\n",
              "</table>\n",
              "</div>"
            ],
            "text/plain": [
              "           name  code  age\n",
              "student1   Amit   101   25\n",
              "student2   Neha   102   30\n",
              "student3  Rahul   103   28"
            ]
          },
          "execution_count": 238,
          "metadata": {},
          "output_type": "execute_result"
        }
      ],
      "source": [
        "s3=list(zip(names,codes,ages))\n",
        "pd.DataFrame(s3,columns=['name','code','age'],index=['student1','student2','student3'])"
      ]
    },
    {
      "cell_type": "code",
      "execution_count": null,
      "id": "90303f94-17d7-4309-83d8-eeeba20b861e",
      "metadata": {
        "id": "90303f94-17d7-4309-83d8-eeeba20b861e",
        "outputId": "8b8c841e-95aa-49a1-e616-7113f081f5b0"
      },
      "outputs": [
        {
          "data": {
            "text/plain": [
              "[('Amit', 101, 25), ('Neha', 102, 30), ('Rahul', 103, 28)]"
            ]
          },
          "execution_count": 239,
          "metadata": {},
          "output_type": "execute_result"
        }
      ],
      "source": [
        "s3"
      ]
    },
    {
      "cell_type": "code",
      "execution_count": null,
      "id": "6cb7b9c0-69c5-463d-8191-e354ced2d421",
      "metadata": {
        "id": "6cb7b9c0-69c5-463d-8191-e354ced2d421",
        "outputId": "1d6e435d-cc84-4726-c0eb-e96d2bf0eb05"
      },
      "outputs": [
        {
          "name": "stdout",
          "output_type": "stream",
          "text": [
            "{'name': ['xyz', 'abc'], 'Marks': [99, 10, 88]}\n"
          ]
        }
      ],
      "source": [
        "Sae = {'name' : ['xyz','abc'],'Marks':[99,10,88]}\n",
        "print(Sae)"
      ]
    },
    {
      "cell_type": "code",
      "execution_count": null,
      "id": "0c783921-a2f3-4eb4-b95b-41e2964398b7",
      "metadata": {
        "id": "0c783921-a2f3-4eb4-b95b-41e2964398b7"
      },
      "outputs": [],
      "source": []
    },
    {
      "cell_type": "code",
      "execution_count": null,
      "id": "80b169b2-b292-4955-84b7-aaeb06d7d15a",
      "metadata": {
        "id": "80b169b2-b292-4955-84b7-aaeb06d7d15a"
      },
      "outputs": [],
      "source": []
    }
  ],
  "metadata": {
    "kernelspec": {
      "display_name": "Python 3 (ipykernel)",
      "language": "python",
      "name": "python3"
    },
    "language_info": {
      "codemirror_mode": {
        "name": "ipython",
        "version": 3
      },
      "file_extension": ".py",
      "mimetype": "text/x-python",
      "name": "python",
      "nbconvert_exporter": "python",
      "pygments_lexer": "ipython3",
      "version": "3.9.6"
    },
    "colab": {
      "provenance": [],
      "include_colab_link": true
    }
  },
  "nbformat": 4,
  "nbformat_minor": 5
}